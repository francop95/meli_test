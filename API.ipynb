{
 "cells": [
  {
   "cell_type": "code",
   "execution_count": 36,
   "id": "428ef9c7",
   "metadata": {},
   "outputs": [],
   "source": [
    "from flask import Flask,jsonify,Response,make_response,request\n",
    "from flask_restful import Resource, Api, reqparse\n",
    "import pandas as pd\n",
    "import numpy as np\n",
    "import ast\n",
    "import json\n",
    "import time\n",
    "import datetime"
   ]
  },
  {
   "cell_type": "code",
   "execution_count": 37,
   "id": "3260acce",
   "metadata": {},
   "outputs": [],
   "source": [
    "app= Flask(__name__)\n",
    "api=Api(app)"
   ]
  },
  {
   "cell_type": "code",
   "execution_count": 38,
   "id": "14ca5d99",
   "metadata": {},
   "outputs": [],
   "source": [
    "##experiment\n",
    "##day\n",
    "path='Experiments DataSet For Excercise-small.csv'"
   ]
  },
  {
   "cell_type": "code",
   "execution_count": 39,
   "id": "39cbf716",
   "metadata": {},
   "outputs": [],
   "source": [
    "@app.route('/experiment/results')\n",
    "def getExperiments():\n",
    "    #Implemento los filtros con la fecha dada\n",
    "    day = request.args.get('day')    \n",
    "    #Implemento los filtros con la fecha dada\n",
    "    date=datetime.datetime.strptime(day, \"%Y-%m-%d %H\")\n",
    "    df= pd.read_csv(path)\n",
    "    df['timestamp']=pd.to_datetime(df['timestamp']).dt.to_period('H').dt.to_timestamp(freq ='H')\n",
    "    df=df[df['timestamp']==date]\n",
    "    if (len(df.index)>0):\n",
    "    \n",
    "        ##Armo df con los resultados totales(sin tener en cuenta las variantes ni si compraron o no)\n",
    "        df_resultados=pd.DataFrame(df['experiments'].str.split(\",\\s+\").apply(lambda x: pd.Series(x).value_counts()).sum().sort_values(ascending=False)).reset_index().rename(columns={\"index\":\"experiment\",0:\"count\"})\n",
    "        df_resultados['id_variante']=df_resultados['experiment'].str.split('=').str[1]\n",
    "        df_resultados['experiment']=df_resultados['experiment'].str.split('=').str[0]\n",
    "        df_resultados=df_resultados[['experiment','id_variante','count']]\n",
    "        #df_resultados.sort_values(by=['experiment'], ascending=False)\n",
    "        resultados_total=df_resultados.groupby(by=['experiment'])['count'].sum()\n",
    "    \n",
    "    #-------------------------------------------------------------------------#\n",
    "        #Armo df con los resultados que compraron de los experimentos con sus variantes\n",
    "        df_buy=df[df['event_name']=='BUY']\n",
    "        df_filt=df[df['user_id'].isin(df_buy['user_id']) & df['item_id'].isin(df_buy['item_id'])]\n",
    "        df_filt['experiments']=df_filt['experiments'].map(lambda x: x.lstrip('{').rstrip('}'))\n",
    "        df_resultados_compra=pd.DataFrame(df_filt['experiments'].str.split(\",\\s+\").apply(lambda x: pd.Series(x).value_counts()).sum()).reset_index().rename(columns={\"index\":\"experiment\",0:\"count\"})\n",
    "        df_resultados_compra['id_variante']=df_resultados_compra['experiment'].str.split('=').str[1]\n",
    "        df_resultados_compra['experiment']=df_resultados_compra['experiment'].str.split('=').str[0]\n",
    "        df_resultados_compra=df_resultados_compra[['experiment','id_variante','count']]\n",
    "        #df_resultados_compra.sort_values(by=['experiment'], ascending=False)\n",
    "    \n",
    "    #--------------------------------------------------------------------------#\n",
    "        #Obtengo resultados\n",
    "        experimentos_total=[]\n",
    "        for id in resultados_total.index:\n",
    "            experimentFound=(resultados_total[resultados_total.index==id]).to_dict() \n",
    "            experimentVariants=df_resultados_compra[df_resultados_compra.experiment==id].to_dict(orient='records')\n",
    "            if (len(experimentVariants)>0):\n",
    "                variantes=[{'id':experiment['id_variante'],'number_of_purchases':experiment['count']} for experiment in experimentVariants]\n",
    "                variante_ganadora = max(variantes, key=lambda x:x['number_of_purchases'])\n",
    "            experimentos_total.append({id:{\n",
    "                                        'number_of_participants':experimentFound[id],\n",
    "                                        'winner':variante_ganadora['id'],\n",
    "                                        'variantes':variantes\n",
    "                                        }})\n",
    "        return jsonify({'results':experimentos_total})\n",
    "    else:\n",
    "        response = make_response('experimento no encontrado',404)\n",
    "        response.mimetype = \"text/plain\"\n",
    "        return response"
   ]
  },
  {
   "cell_type": "code",
   "execution_count": 40,
   "id": "6e40a585",
   "metadata": {},
   "outputs": [],
   "source": [
    "@app.route('/experiment/<path:id>/result')\n",
    "def getExperiment(id):\n",
    "    #Implemento los filtros con la fecha y el id dado\n",
    "    day = request.args.get('day')\n",
    "    date=datetime.datetime.strptime(day, \"%Y-%m-%d %H\")\n",
    "    df= pd.read_csv(path)\n",
    "    df['timestamp']=pd.to_datetime(df['timestamp']).dt.to_period('H').dt.to_timestamp(freq ='H')\n",
    "    df=df[df['timestamp']==date]\n",
    "    if (len(df.index)>0):\n",
    "    \n",
    "        ##Armo df con los resultados totales(sin tener en cuenta las variantes ni si compraron o no)\n",
    "        df_resultados=pd.DataFrame(df['experiments'].str.split(\",\\s+\").apply(lambda x: pd.Series(x).value_counts()).sum().sort_values(ascending=False)).reset_index().rename(columns={\"index\":\"experiment\",0:\"count\"})\n",
    "        df_resultados['id_variante']=df_resultados['experiment'].str.split('=').str[1]\n",
    "        df_resultados['experiment']=df_resultados['experiment'].str.split('=').str[0]\n",
    "        df_resultados=df_resultados[['experiment','id_variante','count']]\n",
    "        #df_resultados.sort_values(by=['experiment'], ascending=False)\n",
    "        resultados_total=df_resultados.groupby(by=['experiment'])['count'].sum()\n",
    "    \n",
    "    #-------------------------------------------------------------------------#\n",
    "        #Armo df con los resultados que compraron de los experimentos con sus variantes\n",
    "        df_buy=df[df['event_name']=='BUY']\n",
    "        df_filt=df[df['user_id'].isin(df_buy['user_id']) & df['item_id'].isin(df_buy['item_id'])]\n",
    "        df_filt['experiments']=df_filt['experiments'].map(lambda x: x.lstrip('{').rstrip('}'))\n",
    "        df_resultados_compra=pd.DataFrame(df_filt['experiments'].str.split(\",\\s+\").apply(lambda x: pd.Series(x).value_counts()).sum()).reset_index().rename(columns={\"index\":\"experiment\",0:\"count\"})\n",
    "        df_resultados_compra['id_variante']=df_resultados_compra['experiment'].str.split('=').str[1]\n",
    "        df_resultados_compra['experiment']=df_resultados_compra['experiment'].str.split('=').str[0]\n",
    "        df_resultados_compra=df_resultados_compra[['experiment','id_variante','count']]\n",
    "        #df_resultados_compra.sort_values(by=['experiment'], ascending=False)\n",
    "    \n",
    "    #--------------------------------------------------------------------------#\n",
    "        #Obtengo resultados\n",
    "        experimentFound=(resultados_total[resultados_total.index==id]).to_dict()\n",
    "        experimentVariants=df_resultados_compra[df_resultados_compra.experiment==id].to_dict(orient='records')\n",
    "        if (len(experimentVariants)>0):\n",
    "                variantes=[{'id':experiment['id_variante'],'number_of_purchases':experiment['count']} for experiment in experimentVariants]\n",
    "                variante_ganadora = max(variantes, key=lambda x:x['number_of_purchases'])\n",
    "        \n",
    "        variantes=[{'id':experiment['id_variante'],'number_of_purchases':experiment['count']} for experiment in experimentVariants]\n",
    "        \n",
    "        #variante_ganadora = max(variantes, key=lambda x:x['number_of_purchases'])\n",
    "    #if (len(experimentFound)>0):\n",
    "        return jsonify({'results':{\n",
    "                                id:{\n",
    "                                    'number_of_participants':experimentFound[id],\n",
    "                                    \n",
    "                                    'winner':int(variante_ganadora['id']),\n",
    "                                    \n",
    "                                    'variantes':variantes\n",
    "                                    }\n",
    "                                    }\n",
    "                                    \n",
    "                       \n",
    "                       \n",
    "                       \n",
    "                       \n",
    "                       })\n",
    "    \n",
    "    #data=resultados[resultados.index==id].to_dict()\n",
    "    else:\n",
    "        response = make_response('experimento no encontrado',404)\n",
    "        response.mimetype = \"text/plain\"\n",
    "        return response\n",
    "        \n",
    "    \n",
    "    "
   ]
  },
  {
   "cell_type": "code",
   "execution_count": 41,
   "id": "a0eb818e",
   "metadata": {},
   "outputs": [
    {
     "name": "stdout",
     "output_type": "stream",
     "text": [
      " * Serving Flask app '__main__' (lazy loading)\n",
      " * Environment: production\n",
      "\u001b[31m   WARNING: This is a development server. Do not use it in a production deployment.\u001b[0m\n",
      "\u001b[2m   Use a production WSGI server instead.\u001b[0m\n",
      " * Debug mode: off\n"
     ]
    },
    {
     "name": "stderr",
     "output_type": "stream",
     "text": [
      " * Running on http://127.0.0.1:5000/ (Press CTRL+C to quit)\n",
      "/tmp/ipykernel_7662/1911988144.py:24: SettingWithCopyWarning: \n",
      "A value is trying to be set on a copy of a slice from a DataFrame.\n",
      "Try using .loc[row_indexer,col_indexer] = value instead\n",
      "\n",
      "See the caveats in the documentation: https://pandas.pydata.org/pandas-docs/stable/user_guide/indexing.html#returning-a-view-versus-a-copy\n",
      "  df_filt['experiments']=df_filt['experiments'].map(lambda x: x.lstrip('{').rstrip('}'))\n",
      "127.0.0.1 - - [03/Dec/2021 09:28:07] \"GET /experiment/results?day=2021-08-01%2023 HTTP/1.1\" 200 -\n",
      "/tmp/ipykernel_7662/1500416409.py:23: SettingWithCopyWarning: \n",
      "A value is trying to be set on a copy of a slice from a DataFrame.\n",
      "Try using .loc[row_indexer,col_indexer] = value instead\n",
      "\n",
      "See the caveats in the documentation: https://pandas.pydata.org/pandas-docs/stable/user_guide/indexing.html#returning-a-view-versus-a-copy\n",
      "  df_filt['experiments']=df_filt['experiments'].map(lambda x: x.lstrip('{').rstrip('}'))\n",
      "127.0.0.1 - - [03/Dec/2021 09:28:16] \"GET /experiment/qadb/sa-on-vip/result?day=2021-08-02%2023 HTTP/1.1\" 200 -\n"
     ]
    }
   ],
   "source": [
    "if __name__=='__main__':\n",
    "    app.run()"
   ]
  },
  {
   "cell_type": "code",
   "execution_count": null,
   "id": "734bd1bc",
   "metadata": {},
   "outputs": [],
   "source": []
  },
  {
   "cell_type": "code",
   "execution_count": null,
   "id": "3f851047",
   "metadata": {},
   "outputs": [],
   "source": []
  },
  {
   "cell_type": "code",
   "execution_count": null,
   "id": "a2e868ca",
   "metadata": {},
   "outputs": [],
   "source": []
  }
 ],
 "metadata": {
  "kernelspec": {
   "display_name": "Python 3 (ipykernel)",
   "language": "python",
   "name": "python3"
  },
  "language_info": {
   "codemirror_mode": {
    "name": "ipython",
    "version": 3
   },
   "file_extension": ".py",
   "mimetype": "text/x-python",
   "name": "python",
   "nbconvert_exporter": "python",
   "pygments_lexer": "ipython3",
   "version": "3.8.8"
  }
 },
 "nbformat": 4,
 "nbformat_minor": 5
}
